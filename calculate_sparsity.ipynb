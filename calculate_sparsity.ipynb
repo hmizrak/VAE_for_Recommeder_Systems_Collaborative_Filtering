{
 "cells": [
  {
   "cell_type": "code",
   "execution_count": 1,
   "id": "69b7d542",
   "metadata": {},
   "outputs": [],
   "source": [
    "import os\n",
    "import shutil\n",
    "import sys\n",
    "\n",
    "import numpy as np\n",
    "from scipy import sparse\n",
    "\n",
    "import matplotlib.pyplot as plt\n",
    "%matplotlib inline\n",
    "\n",
    "import seaborn as sn\n",
    "sn.set()\n",
    "\n",
    "import pandas as pd"
   ]
  },
  {
   "cell_type": "code",
   "execution_count": 2,
   "id": "385c12b8",
   "metadata": {},
   "outputs": [],
   "source": [
    "def get_count(tp, id):\n",
    "    playcount_groupbyid = tp[[id]].groupby(id, as_index=False)\n",
    "    count = playcount_groupbyid.size()\n",
    "    return count['size']"
   ]
  },
  {
   "cell_type": "code",
   "execution_count": 3,
   "id": "0ea17fb3",
   "metadata": {},
   "outputs": [],
   "source": [
    "def filter_triplets(tp, min_uc=50, min_sc=0):\n",
    "    # Only keep the triplets for items which were clicked on by at least min_sc users. \n",
    "    if min_sc > 0:\n",
    "        itemcount = get_count(tp, 'movieId')\n",
    "        tp = tp[tp['movieId'].isin(itemcount.index[itemcount >= min_sc])]\n",
    "    \n",
    "    # Only keep the triplets for users who clicked on at least min_uc items\n",
    "    # After doing this, some of the items will have less than min_uc users, but should only be a small proportion\n",
    "    if min_uc > 0:\n",
    "        usercount = get_count(tp, 'userId')\n",
    "        #print(usercount)\n",
    "        tp = tp[tp['userId'].isin(usercount.index[usercount >= min_uc])]\n",
    "    \n",
    "    # Update both usercount and itemcount after filtering\n",
    "    usercount, itemcount = get_count(tp, 'userId'), get_count(tp, 'movieId') \n",
    "    return tp, usercount, itemcount"
   ]
  },
  {
   "cell_type": "code",
   "execution_count": 4,
   "id": "c54fb322",
   "metadata": {},
   "outputs": [],
   "source": [
    "raw_data = pd.read_csv('ratings.csv')\n",
    "raw_data = raw_data[raw_data['rating'] > 3.5]"
   ]
  },
  {
   "cell_type": "code",
   "execution_count": 5,
   "id": "152528de",
   "metadata": {
    "scrolled": true
   },
   "outputs": [
    {
     "data": {
      "text/plain": [
       "0     True\n",
       "1     True\n",
       "2     True\n",
       "3    False\n",
       "4     True\n",
       "Name: size, dtype: bool"
      ]
     },
     "execution_count": 5,
     "metadata": {},
     "output_type": "execute_result"
    }
   ],
   "source": [
    "itemcount = get_count(raw_data, 'movieId')\n",
    "usercount = get_count(raw_data, 'userId')\n",
    "usercount.head() >= 40"
   ]
  },
  {
   "cell_type": "code",
   "execution_count": 6,
   "id": "1322c75f",
   "metadata": {
    "scrolled": false
   },
   "outputs": [
    {
     "name": "stdout",
     "output_type": "stream",
     "text": [
      "20720\n",
      "109980\n"
     ]
    },
    {
     "data": {
      "image/png": "[encoded data removed]",
      "text/plain": [
       "<Figure size 432x288 with 1 Axes>"
      ]
     },
     "metadata": {},
     "output_type": "display_data"
    }
   ],
   "source": [
    "usercount = usercount[usercount<=100]\n",
    "plt.hist(usercount, bins=100, cumulative=True);\n",
    "plt.xlabel(\"no. of items clicked by a user\")\n",
    "plt.ylabel(\"no. of users who clicked below that no. of items\")\n",
    "plt.title(\"Cumlative Histogram of The Number of Items Clicked by a User\")\n",
    "print(itemcount.shape[0])\n",
    "print(usercount.shape[0])"
   ]
  },
  {
   "cell_type": "code",
   "execution_count": 7,
   "id": "f15a9c5e",
   "metadata": {},
   "outputs": [
    {
     "name": "stdout",
     "output_type": "stream",
     "text": [
      "After filtering, there are 4054046 watching events from 55918 users and 17245 movies (sparsity: 0.420%)\n"
     ]
    }
   ],
   "source": [
    "raw_data_, user_activity, item_popularity = filter_triplets(raw_data)\n",
    "sparsity = 1. * raw_data_.shape[0] / (user_activity.shape[0] * item_popularity.shape[0])\n",
    "\n",
    "print(\"After filtering, there are %d watching events from %d users and %d movies (sparsity: %.3f%%)\" % \n",
    "      (raw_data_.shape[0], user_activity.shape[0], item_popularity.shape[0], sparsity * 100))"
   ]
  },
  {
   "cell_type": "markdown",
   "id": "913efbf2",
   "metadata": {},
   "source": [
    "raw_data, user_activity, item_popularity = filter_triplets(raw_data,20,0)\n",
    "After filtering, there are 7337030 watching events from 101597 users and 19415 movies (sparsity: 0.372%)\n",
    "\n",
    "raw_data, user_activity, item_popularity = filter_triplets(raw_data,5,0)\n",
    "After filtering, there are 9857803 watching events from 136477 users and 20649 movies (sparsity: 0.350%)\n",
    "\n",
    "raw_data, user_activity, item_popularity = filter_triplets(raw_data,0,0)\n",
    "After filtering, there are 9995410 watching events from 138287 users and 20720 movies (sparsity: 0.349%)\n",
    "\n",
    "raw_data_, user_activity, item_popularity = filter_triplets(raw_data,40,0)\n",
    "After filtering, there are 4810906 watching events from 66450 users and 18020 movies (sparsity: 0.402%)\n",
    "\n",
    "raw_data_, user_activity, item_popularity = filter_triplets(raw_data,40,0)\n",
    "After filtering, there are 4810906 watching events from 66450 users and 18020 movies (sparsity: 0.420%)"
   ]
  },
  {
   "cell_type": "code",
   "execution_count": null,
   "id": "ee9251a6",
   "metadata": {},
   "outputs": [],
   "source": []
  }
 ],
 "metadata": {
  "kernelspec": {
   "display_name": "Python 3",
   "language": "python",
   "name": "python3"
  },
  "language_info": {
   "codemirror_mode": {
    "name": "ipython",
    "version": 3
   },
   "file_extension": ".py",
   "mimetype": "text/x-python",
   "name": "python",
   "nbconvert_exporter": "python",
   "pygments_lexer": "ipython3",
   "version": "3.8.8"
  }
 },
 "nbformat": 4,
 "nbformat_minor": 5
}
